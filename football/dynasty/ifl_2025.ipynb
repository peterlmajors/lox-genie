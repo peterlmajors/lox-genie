{
 "cells": [
  {
   "cell_type": "markdown",
   "id": "4fd722cd",
   "metadata": {},
   "source": [
    "Combine IFL Rosters on Sleeper, LateRound and Fantasy Calc Rankings"
   ]
  },
  {
   "cell_type": "code",
   "execution_count": 1,
   "id": "fcb677fc",
   "metadata": {},
   "outputs": [],
   "source": [
    "import polars as pl\n",
    "pl.Config.set_tbl_rows(-1)\n",
    "rel_path_roster = '../data/2025/ifl/sleeper-rosters.csv'\n",
    "rel_path_fc = '../data/2025/fantasy_calc/false_2_10_ppr_1.csv'\n",
    "rel_path_lr = '../data/2025/late_round/superflex-rankings.csv'\n",
    "rel_path_rookies = '../data/2025/ifl/rookies-personal-rank.csv'\n",
    "\n",
    "from preprocessing import *\n",
    "from rookies import merge_rookies\n",
    "\n",
    "late_round = preprocess_late_round(rel_path_lr)\n",
    "fantasy_calc = preprocess_fantasy_calc(rel_path_fc)\n",
    "df = create_auction_values(late_round, fantasy_calc)\n",
    "df = df.sort('auction_late_round', descending=True)\n",
    "\n",
    "rookies = merge_rookies(rel_path_rookies, df)\n",
    "rookies = rookies.filter(pl.col('personal_rank').is_not_null()).sort('personal_rank', descending=False)\n",
    "rookies.write_csv('../data/2025/big_boards/rookie-bb-ifl.csv')\n",
    "\n",
    "ifl = pl.read_csv(rel_path_roster).drop(['headshot', 'nickname', 'roster_slot', 'position', 'full_name'])\n",
    "df_ifl = df.join(ifl, left_on='sleeper_id', right_on='player_id', how='left')\n",
    "df_ifl = df_ifl.sort('auction_late_round', descending=True)\n",
    "df_ifl.write_csv('../data/2025/big_boards/auction-bb-ifl.csv')"
   ]
  },
  {
   "cell_type": "markdown",
   "id": "821db858",
   "metadata": {},
   "source": [
    "Free Agency/Rostered Value"
   ]
  },
  {
   "cell_type": "code",
   "execution_count": 6,
   "id": "8faa5d5f",
   "metadata": {},
   "outputs": [
    {
     "name": "stdout",
     "output_type": "stream",
     "text": [
      "Free Agent Value: 284851\n",
      "Rostered Value: 145066\n",
      "Percent Rostered: 0.34\n"
     ]
    }
   ],
   "source": [
    "import polars as pl\n",
    "team_values = (df_ifl.group_by(\"team_name\").agg(pl.col(\"redraft_value\").sum().alias(\"redraft_value\")).sort(\"redraft_value\", descending=True))\n",
    "\n",
    "free_agent_value = team_values.filter(pl.col(\"team_name\").is_null())[\"redraft_value\"].sum()\n",
    "rostered_value = team_values.filter(pl.col(\"team_name\").is_not_null())[\"redraft_value\"].sum()\n",
    "\n",
    "print(f\"Free Agent Value: {free_agent_value}\")\n",
    "print(f\"Rostered Value: {rostered_value}\")\n",
    "print(f\"Percent Rostered: {round(rostered_value / (rostered_value + free_agent_value), 2)}\")"
   ]
  },
  {
   "cell_type": "markdown",
   "id": "e5fc863f",
   "metadata": {},
   "source": [
    "Drafts - 2024"
   ]
  },
  {
   "cell_type": "code",
   "execution_count": 2,
   "id": "9ca86d50",
   "metadata": {},
   "outputs": [
    {
     "ename": "SchemaError",
     "evalue": "type Boolean is incompatible with expected type Null",
     "output_type": "error",
     "traceback": [
      "\u001b[1;31m---------------------------------------------------------------------------\u001b[0m",
      "\u001b[1;31mSchemaError\u001b[0m                               Traceback (most recent call last)",
      "Input \u001b[1;32mIn [2]\u001b[0m, in \u001b[0;36m<cell line: 9>\u001b[1;34m()\u001b[0m\n\u001b[0;32m      6\u001b[0m pl\u001b[38;5;241m.\u001b[39mConfig\u001b[38;5;241m.\u001b[39mset_tbl_rows(\u001b[38;5;241m-\u001b[39m\u001b[38;5;241m1\u001b[39m)\n\u001b[0;32m      8\u001b[0m \u001b[38;5;28;01mfrom\u001b[39;00m \u001b[38;5;21;01mifl_drafts\u001b[39;00m \u001b[38;5;28;01mimport\u001b[39;00m get_ifl_draft_metadata\n\u001b[1;32m----> 9\u001b[0m df \u001b[38;5;241m=\u001b[39m \u001b[43mget_ifl_draft_metadata\u001b[49m\u001b[43m(\u001b[49m\u001b[43m)\u001b[49m\n\u001b[0;32m     11\u001b[0m drafted \u001b[38;5;241m=\u001b[39m df\u001b[38;5;241m.\u001b[39mfilter(pl\u001b[38;5;241m.\u001b[39mcol(\u001b[38;5;124m'\u001b[39m\u001b[38;5;124mdrafted\u001b[39m\u001b[38;5;124m'\u001b[39m) \u001b[38;5;241m==\u001b[39m \u001b[38;5;28;01mTrue\u001b[39;00m)\u001b[38;5;241m.\u001b[39mdrop([\u001b[38;5;124m'\u001b[39m\u001b[38;5;124mprice\u001b[39m\u001b[38;5;124m'\u001b[39m])\n\u001b[0;32m     12\u001b[0m auctioned \u001b[38;5;241m=\u001b[39m df\u001b[38;5;241m.\u001b[39mfilter(pl\u001b[38;5;241m.\u001b[39mcol(\u001b[38;5;124m'\u001b[39m\u001b[38;5;124mdrafted\u001b[39m\u001b[38;5;124m'\u001b[39m) \u001b[38;5;241m==\u001b[39m \u001b[38;5;28;01mFalse\u001b[39;00m)\n",
      "File \u001b[1;32mc:\\Users\\Peter\\Documents\\GitHub\\Lox-Research\\football\\dynasty\\ifl_drafts.py:32\u001b[0m, in \u001b[0;36mget_ifl_draft_metadata\u001b[1;34m(league_id, year)\u001b[0m\n\u001b[0;32m     29\u001b[0m rookie_df \u001b[38;5;241m=\u001b[39m rookie_df\u001b[38;5;241m.\u001b[39mselect(common_columns)\n\u001b[0;32m     30\u001b[0m auction_df \u001b[38;5;241m=\u001b[39m auction_df\u001b[38;5;241m.\u001b[39mselect(common_columns)\n\u001b[1;32m---> 32\u001b[0m draft \u001b[38;5;241m=\u001b[39m \u001b[43mpl\u001b[49m\u001b[38;5;241;43m.\u001b[39;49m\u001b[43mconcat\u001b[49m\u001b[43m(\u001b[49m\u001b[43m[\u001b[49m\u001b[43mauction_df\u001b[49m\u001b[43m,\u001b[49m\u001b[43m \u001b[49m\u001b[43mrookie_df\u001b[49m\u001b[43m]\u001b[49m\u001b[43m)\u001b[49m\n\u001b[0;32m     34\u001b[0m draft \u001b[38;5;241m=\u001b[39m draft\u001b[38;5;241m.\u001b[39mwith_columns([pl\u001b[38;5;241m.\u001b[39mlit(year)\u001b[38;5;241m.\u001b[39malias(\u001b[38;5;124m\"\u001b[39m\u001b[38;5;124mseason\u001b[39m\u001b[38;5;124m\"\u001b[39m)])\n\u001b[0;32m     35\u001b[0m draft \u001b[38;5;241m=\u001b[39m draft\u001b[38;5;241m.\u001b[39mwith_columns(\n\u001b[0;32m     36\u001b[0m     [\n\u001b[0;32m     37\u001b[0m         pl\u001b[38;5;241m.\u001b[39mcol(\u001b[38;5;124m\"\u001b[39m\u001b[38;5;124mprice\u001b[39m\u001b[38;5;124m\"\u001b[39m)\u001b[38;5;241m.\u001b[39mcast(pl\u001b[38;5;241m.\u001b[39mFloat64),\n\u001b[0;32m     38\u001b[0m     ]\n\u001b[0;32m     39\u001b[0m )\n",
      "File \u001b[1;32m~\\AppData\\Local\\Packages\\PythonSoftwareFoundation.Python.3.10_qbz5n2kfra8p0\\LocalCache\\local-packages\\Python310\\site-packages\\polars\\functions\\eager.py:191\u001b[0m, in \u001b[0;36mconcat\u001b[1;34m(items, how, rechunk, parallel)\u001b[0m\n\u001b[0;32m    189\u001b[0m \u001b[38;5;28;01mif\u001b[39;00m \u001b[38;5;28misinstance\u001b[39m(first, pl\u001b[38;5;241m.\u001b[39mDataFrame):\n\u001b[0;32m    190\u001b[0m     \u001b[38;5;28;01mif\u001b[39;00m how \u001b[38;5;241m==\u001b[39m \u001b[38;5;124m\"\u001b[39m\u001b[38;5;124mvertical\u001b[39m\u001b[38;5;124m\"\u001b[39m:\n\u001b[1;32m--> 191\u001b[0m         out \u001b[38;5;241m=\u001b[39m wrap_df(\u001b[43mplr\u001b[49m\u001b[38;5;241;43m.\u001b[39;49m\u001b[43mconcat_df\u001b[49m\u001b[43m(\u001b[49m\u001b[43melems\u001b[49m\u001b[43m)\u001b[49m)\n\u001b[0;32m    192\u001b[0m     \u001b[38;5;28;01melif\u001b[39;00m how \u001b[38;5;241m==\u001b[39m \u001b[38;5;124m\"\u001b[39m\u001b[38;5;124mvertical_relaxed\u001b[39m\u001b[38;5;124m\"\u001b[39m:\n\u001b[0;32m    193\u001b[0m         out \u001b[38;5;241m=\u001b[39m wrap_ldf(\n\u001b[0;32m    194\u001b[0m             plr\u001b[38;5;241m.\u001b[39mconcat_lf(\n\u001b[0;32m    195\u001b[0m                 [df\u001b[38;5;241m.\u001b[39mlazy() \u001b[38;5;28;01mfor\u001b[39;00m df \u001b[38;5;129;01min\u001b[39;00m elems],\n\u001b[1;32m   (...)\u001b[0m\n\u001b[0;32m    199\u001b[0m             )\n\u001b[0;32m    200\u001b[0m         )\u001b[38;5;241m.\u001b[39mcollect(no_optimization\u001b[38;5;241m=\u001b[39m\u001b[38;5;28;01mTrue\u001b[39;00m)\n",
      "\u001b[1;31mSchemaError\u001b[0m: type Boolean is incompatible with expected type Null"
     ]
    }
   ],
   "source": [
    "import os, sys\n",
    "project_root = os.path.abspath(os.path.join(os.getcwd(), '..', '..'))\n",
    "if project_root not in sys.path:\n",
    "    sys.path.insert(0, project_root)\n",
    "import polars as pl \n",
    "pl.Config.set_tbl_rows(-1)\n",
    "\n",
    "from ifl_drafts import get_ifl_draft_metadata\n",
    "df = get_ifl_draft_metadata()\n",
    "\n",
    "drafted = df.filter(pl.col('drafted') == True).drop(['price'])\n",
    "auctioned = df.filter(pl.col('drafted') == False)"
   ]
  },
  {
   "cell_type": "code",
   "execution_count": 5,
   "id": "c870f488",
   "metadata": {},
   "outputs": [],
   "source": [
    "contracts = pl.read_csv('../data/2025/Contracts-IFL.csv')\n",
    "contracts.filter(pl.col('season') == 2024).sort('price', descending=True)\n",
    "contracts = contracts.drop(['player_id', 'round', 'pick', 'drafted', 'user_id', 'display_name'])\n",
    "drafted = drafted.drop(['years'])\n",
    "drafted_prices = drafted.join(contracts, on = ['season', 'player_name'], how = 'left').head(5)"
   ]
  },
  {
   "cell_type": "code",
   "execution_count": 6,
   "id": "3984f9a2",
   "metadata": {},
   "outputs": [
    {
     "name": "stdout",
     "output_type": "stream",
     "text": [
      "['season', 'player_id', 'player_name', 'round', 'pick', 'user_id', 'team_name', 'display_name', 'price', 'drafted', 'years']\n",
      "['season', 'player_id', 'player_name', 'round', 'pick', 'user_id', 'team_name', 'display_name', 'drafted', 'price', 'years']\n"
     ]
    },
    {
     "ename": "ShapeError",
     "evalue": "unable to vstack, column names don't match: \"price\" and \"drafted\"",
     "output_type": "error",
     "traceback": [
      "\u001b[1;31m---------------------------------------------------------------------------\u001b[0m",
      "\u001b[1;31mShapeError\u001b[0m                                Traceback (most recent call last)",
      "Input \u001b[1;32mIn [6]\u001b[0m, in \u001b[0;36m<cell line: 3>\u001b[1;34m()\u001b[0m\n\u001b[0;32m      1\u001b[0m \u001b[38;5;28mprint\u001b[39m(auctioned\u001b[38;5;241m.\u001b[39mcolumns)\n\u001b[0;32m      2\u001b[0m \u001b[38;5;28mprint\u001b[39m(drafted_prices\u001b[38;5;241m.\u001b[39mcolumns)\n\u001b[1;32m----> 3\u001b[0m combined \u001b[38;5;241m=\u001b[39m \u001b[43mpl\u001b[49m\u001b[38;5;241;43m.\u001b[39;49m\u001b[43mconcat\u001b[49m\u001b[43m(\u001b[49m\u001b[43m[\u001b[49m\u001b[43mauctioned\u001b[49m\u001b[43m,\u001b[49m\u001b[43m \u001b[49m\u001b[43mdrafted_prices\u001b[49m\u001b[43m]\u001b[49m\u001b[43m)\u001b[49m\n",
      "File \u001b[1;32m~\\AppData\\Local\\Packages\\PythonSoftwareFoundation.Python.3.10_qbz5n2kfra8p0\\LocalCache\\local-packages\\Python310\\site-packages\\polars\\functions\\eager.py:191\u001b[0m, in \u001b[0;36mconcat\u001b[1;34m(items, how, rechunk, parallel)\u001b[0m\n\u001b[0;32m    189\u001b[0m \u001b[38;5;28;01mif\u001b[39;00m \u001b[38;5;28misinstance\u001b[39m(first, pl\u001b[38;5;241m.\u001b[39mDataFrame):\n\u001b[0;32m    190\u001b[0m     \u001b[38;5;28;01mif\u001b[39;00m how \u001b[38;5;241m==\u001b[39m \u001b[38;5;124m\"\u001b[39m\u001b[38;5;124mvertical\u001b[39m\u001b[38;5;124m\"\u001b[39m:\n\u001b[1;32m--> 191\u001b[0m         out \u001b[38;5;241m=\u001b[39m wrap_df(\u001b[43mplr\u001b[49m\u001b[38;5;241;43m.\u001b[39;49m\u001b[43mconcat_df\u001b[49m\u001b[43m(\u001b[49m\u001b[43melems\u001b[49m\u001b[43m)\u001b[49m)\n\u001b[0;32m    192\u001b[0m     \u001b[38;5;28;01melif\u001b[39;00m how \u001b[38;5;241m==\u001b[39m \u001b[38;5;124m\"\u001b[39m\u001b[38;5;124mvertical_relaxed\u001b[39m\u001b[38;5;124m\"\u001b[39m:\n\u001b[0;32m    193\u001b[0m         out \u001b[38;5;241m=\u001b[39m wrap_ldf(\n\u001b[0;32m    194\u001b[0m             plr\u001b[38;5;241m.\u001b[39mconcat_lf(\n\u001b[0;32m    195\u001b[0m                 [df\u001b[38;5;241m.\u001b[39mlazy() \u001b[38;5;28;01mfor\u001b[39;00m df \u001b[38;5;129;01min\u001b[39;00m elems],\n\u001b[1;32m   (...)\u001b[0m\n\u001b[0;32m    199\u001b[0m             )\n\u001b[0;32m    200\u001b[0m         )\u001b[38;5;241m.\u001b[39mcollect(no_optimization\u001b[38;5;241m=\u001b[39m\u001b[38;5;28;01mTrue\u001b[39;00m)\n",
      "\u001b[1;31mShapeError\u001b[0m: unable to vstack, column names don't match: \"price\" and \"drafted\""
     ]
    }
   ],
   "source": [
    "print(auctioned.columns)\n",
    "print(drafted_prices.columns)\n",
    "combined = pl.concat([auctioned, drafted_prices])"
   ]
  },
  {
   "cell_type": "code",
   "execution_count": null,
   "id": "2c3865f7",
   "metadata": {},
   "outputs": [],
   "source": []
  }
 ],
 "metadata": {
  "kernelspec": {
   "display_name": "Python 3",
   "language": "python",
   "name": "python3"
  },
  "language_info": {
   "codemirror_mode": {
    "name": "ipython",
    "version": 3
   },
   "file_extension": ".py",
   "mimetype": "text/x-python",
   "name": "python",
   "nbconvert_exporter": "python",
   "pygments_lexer": "ipython3",
   "version": "3.10.11"
  }
 },
 "nbformat": 4,
 "nbformat_minor": 5
}
