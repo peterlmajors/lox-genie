{
 "cells": [
  {
   "cell_type": "code",
   "execution_count": null,
   "metadata": {},
   "outputs": [],
   "source": [
    "from aws import csv_from_s3\n",
    "d = csv_from_s3('lox-football', 'cfbd_draft.csv')\n",
    "filter = (d['nfl_team'] == 'Kansas City') & (d['position'] == 'Wide Receiver') & (d['college_team'] == 'Georgia')\n",
    "d[filter]['name']"
   ]
  }
 ],
 "metadata": {
  "kernelspec": {
   "display_name": "Python 3",
   "language": "python",
   "name": "python3"
  },
  "language_info": {
   "codemirror_mode": {
    "name": "ipython",
    "version": 3
   },
   "file_extension": ".py",
   "mimetype": "text/x-python",
   "name": "python",
   "nbconvert_exporter": "python",
   "pygments_lexer": "ipython3",
   "version": "3.10.11"
  }
 },
 "nbformat": 4,
 "nbformat_minor": 2
}
