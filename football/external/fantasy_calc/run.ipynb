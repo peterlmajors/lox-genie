{
 "cells": [
  {
   "cell_type": "code",
   "execution_count": 1,
   "id": "008b615f",
   "metadata": {},
   "outputs": [
    {
     "name": "stdout",
     "output_type": "stream",
     "text": [
      "../../data/2025/fantasy_calc_false_2_10_ppr_1.csv is older than 1 day(s). Fetching data from API ...\n",
      "Fetching Fantasy Calc rankings from API...\n",
      "Fantasy Calc data saved to: ../../data/2025/fantasy_calc_false_2_10_ppr_1.csv\n"
     ]
    }
   ],
   "source": [
    "import os, sys\n",
    "project_root = os.path.abspath(os.path.join(os.getcwd(), '..', '..', '..'))\n",
    "if project_root not in sys.path:\n",
    "    sys.path.insert(0, project_root)\n",
    "    \n",
    "from football.external.fantasy_calc.api import get_fantasy_calc_rankings\n",
    "df = get_fantasy_calc_rankings(dynasty=False, superflex=True, teams=10, ppr=1)"
   ]
  }
 ],
 "metadata": {
  "kernelspec": {
   "display_name": "Python 3",
   "language": "python",
   "name": "python3"
  },
  "language_info": {
   "codemirror_mode": {
    "name": "ipython",
    "version": 3
   },
   "file_extension": ".py",
   "mimetype": "text/x-python",
   "name": "python",
   "nbconvert_exporter": "python",
   "pygments_lexer": "ipython3",
   "version": "3.10.11"
  }
 },
 "nbformat": 4,
 "nbformat_minor": 5
}
